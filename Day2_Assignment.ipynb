{
 "cells": [
  {
   "cell_type": "code",
   "execution_count": 1,
   "id": "fc7a2b2a",
   "metadata": {},
   "outputs": [],
   "source": [
    "import numpy as np\n",
    "import matplotlib.pyplot as plt\n",
    "import pandas as pd\n",
    "import seaborn as sns\n",
    "%matplotlib inline\n",
    "from numpy.random import randn,randint,uniform,sample"
   ]
  },
  {
   "cell_type": "code",
   "execution_count": 2,
   "id": "7865a6d7",
   "metadata": {},
   "outputs": [
    {
     "data": {
      "text/html": [
       "<div>\n",
       "<style scoped>\n",
       "    .dataframe tbody tr th:only-of-type {\n",
       "        vertical-align: middle;\n",
       "    }\n",
       "\n",
       "    .dataframe tbody tr th {\n",
       "        vertical-align: top;\n",
       "    }\n",
       "\n",
       "    .dataframe thead th {\n",
       "        text-align: right;\n",
       "    }\n",
       "</style>\n",
       "<table border=\"1\" class=\"dataframe\">\n",
       "  <thead>\n",
       "    <tr style=\"text-align: right;\">\n",
       "      <th></th>\n",
       "      <th>a</th>\n",
       "      <th>b</th>\n",
       "      <th>c</th>\n",
       "      <th>d</th>\n",
       "    </tr>\n",
       "  </thead>\n",
       "  <tbody>\n",
       "    <tr>\n",
       "      <th>0</th>\n",
       "      <td>-0.376566</td>\n",
       "      <td>0.512479</td>\n",
       "      <td>0.347521</td>\n",
       "      <td>-0.475354</td>\n",
       "    </tr>\n",
       "    <tr>\n",
       "      <th>1</th>\n",
       "      <td>1.302374</td>\n",
       "      <td>0.421749</td>\n",
       "      <td>0.358636</td>\n",
       "      <td>-0.674409</td>\n",
       "    </tr>\n",
       "    <tr>\n",
       "      <th>2</th>\n",
       "      <td>-0.659354</td>\n",
       "      <td>-1.663340</td>\n",
       "      <td>-0.972600</td>\n",
       "      <td>0.171124</td>\n",
       "    </tr>\n",
       "    <tr>\n",
       "      <th>3</th>\n",
       "      <td>0.454276</td>\n",
       "      <td>0.369244</td>\n",
       "      <td>0.836150</td>\n",
       "      <td>-0.087756</td>\n",
       "    </tr>\n",
       "    <tr>\n",
       "      <th>4</th>\n",
       "      <td>0.525959</td>\n",
       "      <td>-0.027232</td>\n",
       "      <td>-0.448854</td>\n",
       "      <td>0.099851</td>\n",
       "    </tr>\n",
       "    <tr>\n",
       "      <th>5</th>\n",
       "      <td>-2.091937</td>\n",
       "      <td>1.747759</td>\n",
       "      <td>-0.836992</td>\n",
       "      <td>0.271965</td>\n",
       "    </tr>\n",
       "    <tr>\n",
       "      <th>6</th>\n",
       "      <td>0.005921</td>\n",
       "      <td>0.384715</td>\n",
       "      <td>0.825478</td>\n",
       "      <td>-0.670736</td>\n",
       "    </tr>\n",
       "    <tr>\n",
       "      <th>7</th>\n",
       "      <td>0.734732</td>\n",
       "      <td>-0.099814</td>\n",
       "      <td>0.938895</td>\n",
       "      <td>0.223154</td>\n",
       "    </tr>\n",
       "    <tr>\n",
       "      <th>8</th>\n",
       "      <td>0.862591</td>\n",
       "      <td>0.434497</td>\n",
       "      <td>-0.190282</td>\n",
       "      <td>-0.021795</td>\n",
       "    </tr>\n",
       "    <tr>\n",
       "      <th>9</th>\n",
       "      <td>-1.112128</td>\n",
       "      <td>-0.814402</td>\n",
       "      <td>0.197300</td>\n",
       "      <td>0.949403</td>\n",
       "    </tr>\n",
       "  </tbody>\n",
       "</table>\n",
       "</div>"
      ],
      "text/plain": [
       "          a         b         c         d\n",
       "0 -0.376566  0.512479  0.347521 -0.475354\n",
       "1  1.302374  0.421749  0.358636 -0.674409\n",
       "2 -0.659354 -1.663340 -0.972600  0.171124\n",
       "3  0.454276  0.369244  0.836150 -0.087756\n",
       "4  0.525959 -0.027232 -0.448854  0.099851\n",
       "5 -2.091937  1.747759 -0.836992  0.271965\n",
       "6  0.005921  0.384715  0.825478 -0.670736\n",
       "7  0.734732 -0.099814  0.938895  0.223154\n",
       "8  0.862591  0.434497 -0.190282 -0.021795\n",
       "9 -1.112128 -0.814402  0.197300  0.949403"
      ]
     },
     "execution_count": 2,
     "metadata": {},
     "output_type": "execute_result"
    }
   ],
   "source": [
    "df=pd.DataFrame(randn(10,4),columns=['a','b','c','d'])\n",
    "df"
   ]
  },
  {
   "cell_type": "code",
   "execution_count": 3,
   "id": "7de37097",
   "metadata": {},
   "outputs": [
    {
     "data": {
      "image/png": "[encoded data removed]",
      "text/plain": [
       "<Figure size 432x288 with 1 Axes>"
      ]
     },
     "metadata": {
      "needs_background": "light"
     },
     "output_type": "display_data"
    }
   ],
   "source": [
    "df.plot.bar()\n",
    "plt.title(\"Bar Graph\")\n",
    "plt.show()"
   ]
  },
  {
   "cell_type": "code",
   "execution_count": null,
   "id": "453ba1c1",
   "metadata": {},
   "outputs": [],
   "source": []
  }
 ],
 "metadata": {
  "kernelspec": {
   "display_name": "Python 3",
   "language": "python",
   "name": "python3"
  },
  "language_info": {
   "codemirror_mode": {
    "name": "ipython",
    "version": 3
   },
   "file_extension": ".py",
   "mimetype": "text/x-python",
   "name": "python",
   "nbconvert_exporter": "python",
   "pygments_lexer": "ipython3",
   "version": "3.8.8"
  }
 },
 "nbformat": 4,
 "nbformat_minor": 5
}
